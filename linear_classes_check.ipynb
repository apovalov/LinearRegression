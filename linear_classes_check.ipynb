{
 "cells": [
  {
   "cell_type": "code",
   "execution_count": 1,
   "metadata": {},
   "outputs": [],
   "source": [
    "import numpy as np\n",
    "from linear_regression import LinearRegression\n",
    "from logistic_regression import LogisticRegression\n",
    "from sklearn.model_selection import train_test_split\n",
    "from sklearn.datasets import make_regression, make_classification\n",
    "from sklearn.metrics import mean_squared_error, accuracy_score"
   ]
  },
  {
   "cell_type": "markdown",
   "metadata": {},
   "source": [
    "# Checking Linear Regression"
   ]
  },
  {
   "cell_type": "code",
   "execution_count": 2,
   "metadata": {},
   "outputs": [],
   "source": [
    "X_reg, y_reg = make_regression(n_samples=100, n_features=2, noise=0.1, random_state=42)\n",
    "X_train_reg, X_test_reg, y_train_reg, y_test_reg = train_test_split(X_reg, y_reg, test_size=0.2, random_state=42)"
   ]
  },
  {
   "cell_type": "code",
   "execution_count": 3,
   "metadata": {},
   "outputs": [
    {
     "name": "stdout",
     "output_type": "stream",
     "text": [
      "Epoch 0, Loss: 11915.194526183384\n",
      "Epoch 100, Loss: 1926.752684994636\n",
      "Epoch 200, Loss: 338.1255511610234\n",
      "Epoch 300, Loss: 64.60687577263305\n",
      "Epoch 400, Loss: 13.33389673849933\n",
      "Epoch 500, Loss: 2.9297817810289506\n",
      "Epoch 600, Loss: 0.6781685654096696\n",
      "Epoch 700, Loss: 0.1675848910071473\n",
      "Epoch 800, Loss: 0.04814039356961229\n",
      "Epoch 900, Loss: 0.01964356345649105\n",
      "MSE: 0.01653739604153813\n"
     ]
    }
   ],
   "source": [
    "lin_reg = LinearRegression(learning_rate=0.01, verbose=True)\n",
    "lin_reg.fit(X_train_reg, y_train_reg, epochs=1000)  # Исправлено имя параметра\n",
    "y_pred_reg = lin_reg.predict(X_test_reg)\n",
    "print(\"MSE:\", mean_squared_error(y_test_reg, y_pred_reg))"
   ]
  },
  {
   "cell_type": "markdown",
   "metadata": {},
   "source": [
    "# Checking Logistic Regression"
   ]
  },
  {
   "cell_type": "code",
   "execution_count": 5,
   "metadata": {},
   "outputs": [],
   "source": [
    "X_clf, y_clf = make_classification(n_samples=100,\n",
    "                                   n_features=2,\n",
    "                                   n_informative=2,\n",
    "                                   n_redundant=0,\n",
    "                                   n_repeated=0,\n",
    "                                   n_classes=2,\n",
    "                                   random_state=42)\n",
    "\n",
    "X_train_clf, X_test_clf, y_train_clf, y_test_clf = train_test_split(X_clf, y_clf, test_size=0.2, random_state=42)"
   ]
  },
  {
   "cell_type": "code",
   "execution_count": 7,
   "metadata": {},
   "outputs": [
    {
     "name": "stdout",
     "output_type": "stream",
     "text": [
      "Epoch 0, Loss: 0.6931471805599453\n",
      "Epoch 100, Loss: 0.17197989823370638\n",
      "Epoch 200, Loss: 0.1215176200490959\n",
      "Epoch 300, Loss: 0.1006402383927798\n",
      "Epoch 400, Loss: 0.08877512752752811\n",
      "Epoch 500, Loss: 0.08095211762050314\n",
      "Epoch 600, Loss: 0.07532653435543837\n",
      "Epoch 700, Loss: 0.07104383553700153\n",
      "Epoch 800, Loss: 0.06764935403749223\n",
      "Epoch 900, Loss: 0.06487693101526468\n",
      "Accuracy: 0.95\n"
     ]
    }
   ],
   "source": [
    "log_reg = LogisticRegression(learning_rate=0.1, verbose=True)\n",
    "log_reg.fit(X_train_clf, y_train_clf, epochs=1000)\n",
    "y_pred_clf = log_reg.predict(X_test_clf)\n",
    "print(\"Accuracy:\", accuracy_score(y_test_clf, y_pred_clf))"
   ]
  }
 ],
 "metadata": {
  "kernelspec": {
   "display_name": "Python 3",
   "language": "python",
   "name": "python3"
  },
  "language_info": {
   "codemirror_mode": {
    "name": "ipython",
    "version": 3
   },
   "file_extension": ".py",
   "mimetype": "text/x-python",
   "name": "python",
   "nbconvert_exporter": "python",
   "pygments_lexer": "ipython3",
   "version": "3.9.19"
  }
 },
 "nbformat": 4,
 "nbformat_minor": 2
}
